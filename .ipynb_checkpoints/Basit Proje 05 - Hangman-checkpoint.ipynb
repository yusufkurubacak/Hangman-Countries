{
 "cells": [
  {
   "cell_type": "code",
   "execution_count": 10,
   "id": "e35df77c-b223-47e8-a4e9-99b73adadc0c",
   "metadata": {},
   "outputs": [
    {
     "name": "stdout",
     "output_type": "stream",
     "text": [
      "İpucu almak için \"tip\" yaz.\n",
      "_ _ _ _ _ _ _ _ _ _ _ _ _ _ _ _ _ _ _ _ _ _ _ _ _ _ _ _ _ _ _ _ _ _\n"
     ]
    },
    {
     "name": "stdin",
     "output_type": "stream",
     "text": [
      "Bir harf seç! Kalan yanlış tahmin hakkı: 11|Kalan ipucu hakkı: 8 a\n"
     ]
    },
    {
     "name": "stdout",
     "output_type": "stream",
     "text": [
      "A A A A A A A A A _ _ _ _ _ _ _ _ _ _ _ _ _ _ _ _ _ _ _ _ _ _ _ _ _\n"
     ]
    },
    {
     "name": "stdin",
     "output_type": "stream",
     "text": [
      "Bir harf seç! Kalan yanlış tahmin hakkı: 11|Kalan ipucu hakkı: 8 a\n"
     ]
    },
    {
     "name": "stdout",
     "output_type": "stream",
     "text": [
      "A harfini daha önce tahmin ettin. Yeniden dene!\n",
      "A A A A A A A A A _ _ _ _ _ _ _ _ _ _ _ _ _ _ _ _ _ _ _ _ _ _ _ _ _\n"
     ]
    },
    {
     "name": "stdin",
     "output_type": "stream",
     "text": [
      "Bir harf seç! Kalan yanlış tahmin hakkı: 11|Kalan ipucu hakkı: 8 tip\n"
     ]
    },
    {
     "name": "stdout",
     "output_type": "stream",
     "text": [
      "A A A A A A A A A B B B B B B B B B B B B _ _ _ _ _ _ _ _ _ _ _ _ _\n"
     ]
    },
    {
     "name": "stdin",
     "output_type": "stream",
     "text": [
      "Bir harf seç! Kalan yanlış tahmin hakkı: 11|Kalan ipucu hakkı: 7 tip\n"
     ]
    },
    {
     "name": "stdout",
     "output_type": "stream",
     "text": [
      "Tebrikler! Gizli kelimeyi buldunuz: AAAAAAAAABBBBBBBBBBBBCCCCCCCCCCCCC\n"
     ]
    }
   ],
   "source": [
    "import random as r\n",
    "def hangman():\n",
    "    #SABİTLER\n",
    "   # word = r.choice([\"United States\", \"Canada\", \"Afghanistan\", \"Albania\", \"Algeria\", \"American Samoa\", \"Andorra\", \"Angola\", \"Anguilla\", \"Antarctica\", \"Antigua and/or Barbuda\", \"Argentina\", \"Armenia\", \"Aruba\", \"Australia\", \"Austria\", \"Azerbaijan\", \"Bahamas\", \"Bahrain\", \"Bangladesh\", \"Barbados\", \"Belarus\", \"Belgium\", \"Belize\", \"Benin\", \"Bermuda\", \"Bhutan\", \"Bolivia\", \"Bosnia and Herzegovina\", \"Botswana\", \"Bouvet Island\", \"Brazil\", \"British Indian Ocean Territory\", \"Brunei Darussalam\", \"Bulgaria\", \"Burkina Faso\", \"Burundi\", \"Cambodia\", \"Cameroon\", \"Cape Verde\", \"Cayman Islands\", \"Central African Republic\", \"Chad\", \"Chile\", \"China\", \"Christmas Island\", \"Cocos (Keeling) Islands\", \"Colombia\", \"Comoros\", \"Congo\", \"Cook Islands\", \"Costa Rica\", \"Croatia (Hrvatska)\", \"Cuba\", \"Cyprus\", \"Czech Republic\", \"Denmark\", \"Djibouti\", \"Dominica\", \"Dominican Republic\", \"East Timor\", \"Ecuador\", \"Egypt\", \"El Salvador\", \"Equatorial Guinea\", \"Eritrea\", \"Estonia\", \"Ethiopia\", \"Falkland Islands (Malvinas)\", \"Faroe Islands\", \"Fiji\", \"Finland\", \"France\", \"France, Metropolitan\", \"French Guiana\", \"French Polynesia\", \"French Southern Territories\", \"Gabon\", \"Gambia\", \"Georgia\", \"Germany\", \"Ghana\", \"Gibraltar\", \"Greece\", \"Greenland\", \"Grenada\", \"Guadeloupe\", \"Guam\", \"Guatemala\", \"Guinea\", \"Guinea-Bissau\", \"Guyana\", \"Haiti\", \"Heard and Mc Donald Islands\", \"Honduras\", \"Hong Kong\", \"Hungary\", \"Iceland\", \"India\", \"Indonesia\", \"Iran (Islamic Republic of)\", \"Iraq\", \"Ireland\", \"Israel\", \"Italy\", \"Ivory Coast\", \"Jamaica\", \"Japan\", \"Jordan\", \"Kazakhstan\", \"Kenya\", \"Kiribati\", \"Korea, Democratic People's Republic of\", \"Korea, Republic of\", \"Kuwait\", \"Kyrgyzstan\", \"Lao People's Democratic Republic\", \"Latvia\", \"Lebanon\", \"Lesotho\", \"Liberia\", \"Libyan Arab Jamahiriya\", \"Liechtenstein\", \"Lithuania\", \"Luxembourg\", \"Macau\", \"Macedonia\", \"Madagascar\", \"Malawi\", \"Malaysia\", \"Maldives\", \"Mali\", \"Malta\", \"Marshall Islands\", \"Martinique\", \"Mauritania\", \"Mauritius\", \"Mayotte\", \"Mexico\", \"Micronesia, Federated States of\", \"Moldova, Republic of\", \"Monaco\", \"Mongolia\", \"Montserrat\", \"Morocco\", \"Mozambique\", \"Myanmar\", \"Namibia\", \"Nauru\", \"Nepal\", \"Netherlands\", \"Netherlands Antilles\", \"New Caledonia\", \"New Zealand\", \"Nicaragua\", \"Niger\", \"Nigeria\", \"Niue\", \"Norfolk Island\", \"Northern Mariana Islands\", \"Norway\", \"Oman\", \"Pakistan\", \"Palau\", \"Panama\", \"Papua New Guinea\", \"Paraguay\", \"Peru\", \"Philippines\", \"Pitcairn\", \"Poland\", \"Portugal\", \"Puerto Rico\", \"Qatar\", \"Reunion\", \"Romania\", \"Russian Federation\", \"Rwanda\", \"Saint Kitts and Nevis\", \"Saint Lucia\", \"Saint Vincent and the Grenadines\", \"Samoa\", \"San Marino\", \"Sao Tome and Principe\", \"Saudi Arabia\", \"Senegal\", \"Seychelles\", \"Sierra Leone\", \"Singapore\", \"Slovakia\", \"Slovenia\", \"Solomon Islands\", \"Somalia\", \"South Africa\", \"South Georgia South Sandwich Islands\", \"Spain\", \"Sri Lanka\", \"St. Helena\", \"St. Pierre and Miquelon\", \"Sudan\", \"Suriname\", \"Svalbard and Jan Mayen Islands\", \"Swaziland\", \"Sweden\", \"Switzerland\", \"Syrian Arab Republic\", \"Taiwan\", \"Tajikistan\", \"Tanzania, United Republic of\", \"Thailand\", \"Togo\", \"Tokelau\", \"Tonga\", \"Trinidad and Tobago\", \"Tunisia\", \"Turkey\", \"Turkmenistan\", \"Turks and Caicos Islands\", \"Tuvalu\", \"Uganda\", \"Ukraine\", \"United Arab Emirates\", \"United Kingdom\", \"United States\", \"Uruguay\", \"Uzbekistan\", \"Vanuatu\", \"Vatican City State\", \"Venezuela\", \"Vietnam\", \"Virgin Islands (British)\", \"Virgin Islands (U.S.)\", \"Wallis and Futuna Islands\", \"Western Sahara\", \"Yemen\", \"Yugoslavia\", \"Zaire\", \"Zambia\", \"Zimbabwe\"]).upper()\n",
    "    word = 'AAAAAAAAABBBBBBBBBBBBCCCCCCCCCCCCC'\n",
    "    visible_letters = []\n",
    "    guess_list= {''}\n",
    "    tip = ''\n",
    "    #Canları tanımla.\n",
    "    tip_can = int(round(len(word) / 4))\n",
    "    can = int(round(len(word) / 3))\n",
    "    #KELİMEYİ GİZLEME\n",
    "    for i in word:                  \n",
    "        if i == ' ':\n",
    "            visible_letters.append('   ')\n",
    "        else:                                          \n",
    "            visible_letters.append('_')\n",
    "    print('İpucu almak için \"tip\" yaz.')\n",
    "    #Oyun döngüsü\n",
    "    while visible_letters != list(word) and can != 0:\n",
    "        print(' '.join(visible_letters))\n",
    "        #Kullanıcıdan harf tahmini al.\n",
    "        guess_letter = input(f'Bir harf seç! Kalan yanlış tahmin hakkı: {can}|Kalan ipucu hakkı: {tip_can}').upper()\n",
    "        #Tahmin, 'tip' ise:\n",
    "        if guess_letter == 'TIP':                                                         \n",
    "            #Tip hakkı kalmadıysa\n",
    "            if tip_can == 0:\n",
    "                print('Tip hakkınız kalmadı!')\n",
    "                continue\n",
    "            #Tip hakkı varsa:\n",
    "            else:\n",
    "                #Aynı tip gelirse, döndür.\n",
    "                while tip in guess_list:\n",
    "                    tip = r.choice(word)\n",
    "                guess_list.add(tip)\n",
    "                for i in range (len(word)):\n",
    "                    if tip == word[i]:\n",
    "                        visible_letters[i] = tip\n",
    "                tip_can -= 1\n",
    "                         \n",
    "            \n",
    "                          \n",
    "        #Birden fazla harfse ya da harf değilse:\n",
    "        elif len(guess_letter) != 1 or not guess_letter.isalpha():\n",
    "            print('Lütfen geçerli bir harf giriniz.')\n",
    "        #Geçerli bir harf girildiyse:\n",
    "        else:\n",
    "            index = word.find(guess_letter) \n",
    "            #Harf, daha önceden tahmin edildiyse:\n",
    "            if guess_letter in guess_list:\n",
    "                print(f'{guess_letter} harfini daha önce tahmin ettin. Yeniden dene!')\n",
    "                continue                   \n",
    "            #Harf, kelimede yoksa:\n",
    "            if index == -1:                               \n",
    "                print('Bu harf yok!')\n",
    "                can -= 1 \n",
    "            #Harf, kelimede varsa:\n",
    "            else:\n",
    "                for i in range (len(word)):\n",
    "                    if word[i] == guess_letter:\n",
    "                        visible_letters[i] = guess_letter\n",
    "            guess_list.add(guess_letter)\n",
    "    if can == 0:\n",
    "        print(f'Kaybettiniz! Gizli kelime: {word}')\n",
    "    else:\n",
    "        print(f'Tebrikler! Gizli kelimeyi buldunuz: {word}')\n",
    "\n",
    "hangman()\n",
    "            \n",
    "\n",
    "    \n",
    "    \n",
    "        "
   ]
  },
  {
   "cell_type": "code",
   "execution_count": null,
   "id": "6f7b404c-7f71-4d3d-8ab5-24628e358707",
   "metadata": {},
   "outputs": [],
   "source": []
  }
 ],
 "metadata": {
  "kernelspec": {
   "display_name": "Python 3 (ipykernel)",
   "language": "python",
   "name": "python3"
  },
  "language_info": {
   "codemirror_mode": {
    "name": "ipython",
    "version": 3
   },
   "file_extension": ".py",
   "mimetype": "text/x-python",
   "name": "python",
   "nbconvert_exporter": "python",
   "pygments_lexer": "ipython3",
   "version": "3.11.4"
  }
 },
 "nbformat": 4,
 "nbformat_minor": 5
}
