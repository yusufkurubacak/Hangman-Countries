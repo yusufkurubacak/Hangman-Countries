{
 "cells": [
  {
   "cell_type": "code",
   "execution_count": 9,
   "id": "dee5d344",
   "metadata": {},
   "outputs": [
    {
     "name": "stdout",
     "output_type": "stream",
     "text": [
      "İpucu almak için \"tip\" yaz.\n",
      "_ _ _ _ _ _\n"
     ]
    },
    {
     "name": "stdin",
     "output_type": "stream",
     "text": [
      "Bir harf seç! Kalan yanlış tahmin hakkı: 2|Kalan ipucu hakkı: 2\n",
      " tip\n"
     ]
    },
    {
     "name": "stdout",
     "output_type": "stream",
     "text": [
      "_ _ W _ _ _\n"
     ]
    },
    {
     "name": "stdin",
     "output_type": "stream",
     "text": [
      "Bir harf seç! Kalan yanlış tahmin hakkı: 2|Kalan ipucu hakkı: 1\n",
      " tip\n"
     ]
    },
    {
     "name": "stdout",
     "output_type": "stream",
     "text": [
      "_ U W _ _ _\n"
     ]
    },
    {
     "name": "stdin",
     "output_type": "stream",
     "text": [
      "Bir harf seç! Kalan yanlış tahmin hakkı: 2|Kalan ipucu hakkı: 0\n",
      " a\n"
     ]
    },
    {
     "name": "stdout",
     "output_type": "stream",
     "text": [
      "_ U W A _ _\n"
     ]
    },
    {
     "name": "stdin",
     "output_type": "stream",
     "text": [
      "Bir harf seç! Kalan yanlış tahmin hakkı: 2|Kalan ipucu hakkı: 0\n",
      " r\n"
     ]
    },
    {
     "name": "stdout",
     "output_type": "stream",
     "text": [
      "Bu harf yok!\n",
      "_ U W A _ _\n"
     ]
    },
    {
     "name": "stdin",
     "output_type": "stream",
     "text": [
      "Bir harf seç! Kalan yanlış tahmin hakkı: 1|Kalan ipucu hakkı: 0\n",
      " n\n"
     ]
    },
    {
     "name": "stdout",
     "output_type": "stream",
     "text": [
      "Bu harf yok!\n",
      "Kaybettiniz! Gizli kelime: KUWAIT\n"
     ]
    }
   ],
   "source": [
    "import random as r\n",
    "\n",
    "%store -r words\n",
    "\n",
    "\n",
    "def hangman():\n",
    "    # SABİTLER\n",
    "    word = r.choice(words).upper()\n",
    "    visible_letters = []\n",
    "    guess_list = {\"\"}\n",
    "    tip = \"\"\n",
    "    # Canları tanımla.\n",
    "    tip_can = int(round(len(word) / 4))\n",
    "    can = int(round(len(word) / 3))\n",
    "    # KELİMEYİ GİZLEME\n",
    "    for i in word:\n",
    "        if i == \" \":\n",
    "            visible_letters.append(\"   \")\n",
    "        else:\n",
    "            visible_letters.append(\"_\")\n",
    "    print('İpucu almak için \"tip\" yaz.')\n",
    "    # Oyun döngüsü\n",
    "    while visible_letters != list(word) and can != 0:\n",
    "        print(\" \".join(visible_letters))\n",
    "        # Kullanıcıdan harf tahmini al.\n",
    "        guess_letter = input(\n",
    "            f\"Bir harf seç! Kalan yanlış tahmin hakkı: {can}|Kalan ipucu hakkı: {tip_can}\\n\"\n",
    "        ).upper()\n",
    "        # Tahmin, 'tip' ise:\n",
    "        if guess_letter == \"TIP\":\n",
    "            # Tip hakkı kalmadıysa\n",
    "            if tip_can == 0:\n",
    "                print(\"Tip hakkınız kalmadı!\")\n",
    "                continue\n",
    "            # Tip hakkı varsa:\n",
    "            else:\n",
    "                # Aynı tip gelirse, döndür.\n",
    "                while tip in guess_list:\n",
    "                    tip = r.choice(word)\n",
    "                # Tipi listey ekle.\n",
    "                guess_list.add(tip)\n",
    "                # Tipi göster\n",
    "                for i in range(len(word)):\n",
    "                    if tip == word[i]:\n",
    "                        visible_letters[i] = tip\n",
    "                tip_can -= 1\n",
    "        # Input birden fazla harfse ya da harf değilse:\n",
    "        elif len(guess_letter) != 1 or not guess_letter.isalpha():\n",
    "            print(\"Lütfen geçerli bir harf giriniz.\")\n",
    "        # Input geçerli bir harf ise:\n",
    "        else:\n",
    "            index = word.find(guess_letter)\n",
    "            # Harf, daha önceden tahmin edildiyse:\n",
    "            if guess_letter in guess_list:\n",
    "                print(f\"{guess_letter} harfini daha önce tahmin ettin. Yeniden dene!\")\n",
    "                continue\n",
    "            # Harf, kelimede yoksa:\n",
    "            if index == -1:\n",
    "                print(\"Bu harf yok!\")\n",
    "                can -= 1\n",
    "            # Harf, kelimede varsa:\n",
    "            else:\n",
    "                for i in range(len(word)):\n",
    "                    if word[i] == guess_letter:\n",
    "                        visible_letters[i] = guess_letter\n",
    "            guess_list.add(guess_letter)\n",
    "    if can == 0:\n",
    "        print(f\"Kaybettiniz! Gizli kelime: {word}\")\n",
    "    else:\n",
    "        print(f\"Tebrikler! Gizli kelimeyi buldunuz: {word}\")\n",
    "\n",
    "\n",
    "hangman()"
   ]
  }
 ],
 "metadata": {
  "kernelspec": {
   "display_name": "Python 3 (ipykernel)",
   "language": "python",
   "name": "python3"
  },
  "language_info": {
   "codemirror_mode": {
    "name": "ipython",
    "version": 3
   },
   "file_extension": ".py",
   "mimetype": "text/x-python",
   "name": "python",
   "nbconvert_exporter": "python",
   "pygments_lexer": "ipython3",
   "version": "3.11.4"
  }
 },
 "nbformat": 4,
 "nbformat_minor": 5
}
